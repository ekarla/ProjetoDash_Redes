{
 "cells": [
  {
   "cell_type": "code",
   "execution_count": 1,
   "metadata": {},
   "outputs": [
    {
     "name": "stdout",
     "output_type": "stream",
     "text": [
      "Collecting jupyter-dash\n",
      "  Downloading jupyter_dash-0.4.0-py3-none-any.whl (20 kB)\n",
      "Requirement already satisfied: flask in /home/elenkarla/anaconda3/lib/python3.8/site-packages (from jupyter-dash) (1.1.2)\n",
      "Requirement already satisfied: requests in /home/elenkarla/anaconda3/lib/python3.8/site-packages (from jupyter-dash) (2.24.0)\n",
      "Requirement already satisfied: dash in /home/elenkarla/anaconda3/lib/python3.8/site-packages (from jupyter-dash) (1.19.0)\n",
      "Requirement already satisfied: ipython in /home/elenkarla/anaconda3/lib/python3.8/site-packages (from jupyter-dash) (7.16.1)\n",
      "Requirement already satisfied: retrying in /home/elenkarla/anaconda3/lib/python3.8/site-packages (from jupyter-dash) (1.3.3)\n",
      "Requirement already satisfied: ipykernel in /home/elenkarla/anaconda3/lib/python3.8/site-packages (from jupyter-dash) (5.3.2)\n",
      "Collecting ansi2html\n",
      "  Downloading ansi2html-1.6.0-py3-none-any.whl (14 kB)\n",
      "Requirement already satisfied: Jinja2>=2.10.1 in /home/elenkarla/anaconda3/lib/python3.8/site-packages (from flask->jupyter-dash) (2.11.2)\n",
      "Requirement already satisfied: Werkzeug>=0.15 in /home/elenkarla/anaconda3/lib/python3.8/site-packages (from flask->jupyter-dash) (1.0.1)\n",
      "Requirement already satisfied: itsdangerous>=0.24 in /home/elenkarla/anaconda3/lib/python3.8/site-packages (from flask->jupyter-dash) (1.1.0)\n",
      "Requirement already satisfied: click>=5.1 in /home/elenkarla/anaconda3/lib/python3.8/site-packages (from flask->jupyter-dash) (7.1.2)\n",
      "Requirement already satisfied: chardet<4,>=3.0.2 in /home/elenkarla/anaconda3/lib/python3.8/site-packages (from requests->jupyter-dash) (3.0.4)\n",
      "Requirement already satisfied: urllib3!=1.25.0,!=1.25.1,<1.26,>=1.21.1 in /home/elenkarla/anaconda3/lib/python3.8/site-packages (from requests->jupyter-dash) (1.25.9)\n",
      "Requirement already satisfied: certifi>=2017.4.17 in /home/elenkarla/anaconda3/lib/python3.8/site-packages (from requests->jupyter-dash) (2020.6.20)\n",
      "Requirement already satisfied: idna<3,>=2.5 in /home/elenkarla/anaconda3/lib/python3.8/site-packages (from requests->jupyter-dash) (2.10)\n",
      "Requirement already satisfied: dash-core-components==1.15.0 in /home/elenkarla/anaconda3/lib/python3.8/site-packages (from dash->jupyter-dash) (1.15.0)\n",
      "Requirement already satisfied: flask-compress in /home/elenkarla/anaconda3/lib/python3.8/site-packages (from dash->jupyter-dash) (1.9.0)\n",
      "Requirement already satisfied: plotly in /home/elenkarla/anaconda3/lib/python3.8/site-packages (from dash->jupyter-dash) (4.14.3)\n",
      "Requirement already satisfied: dash-table==4.11.2 in /home/elenkarla/anaconda3/lib/python3.8/site-packages (from dash->jupyter-dash) (4.11.2)\n",
      "Requirement already satisfied: dash-renderer==1.9.0 in /home/elenkarla/anaconda3/lib/python3.8/site-packages (from dash->jupyter-dash) (1.9.0)\n",
      "Requirement already satisfied: future in /home/elenkarla/anaconda3/lib/python3.8/site-packages (from dash->jupyter-dash) (0.18.2)\n",
      "Requirement already satisfied: dash-html-components==1.1.2 in /home/elenkarla/anaconda3/lib/python3.8/site-packages (from dash->jupyter-dash) (1.1.2)\n",
      "Requirement already satisfied: prompt-toolkit!=3.0.0,!=3.0.1,<3.1.0,>=2.0.0 in /home/elenkarla/anaconda3/lib/python3.8/site-packages (from ipython->jupyter-dash) (3.0.5)\n",
      "Requirement already satisfied: setuptools>=18.5 in /home/elenkarla/anaconda3/lib/python3.8/site-packages (from ipython->jupyter-dash) (49.2.0.post20200714)\n",
      "Requirement already satisfied: pexpect; sys_platform != \"win32\" in /home/elenkarla/anaconda3/lib/python3.8/site-packages (from ipython->jupyter-dash) (4.8.0)\n",
      "Requirement already satisfied: jedi>=0.10 in /home/elenkarla/anaconda3/lib/python3.8/site-packages (from ipython->jupyter-dash) (0.17.1)\n",
      "Requirement already satisfied: pygments in /home/elenkarla/anaconda3/lib/python3.8/site-packages (from ipython->jupyter-dash) (2.6.1)\n",
      "Requirement already satisfied: pickleshare in /home/elenkarla/anaconda3/lib/python3.8/site-packages (from ipython->jupyter-dash) (0.7.5)\n",
      "Requirement already satisfied: decorator in /home/elenkarla/anaconda3/lib/python3.8/site-packages (from ipython->jupyter-dash) (4.4.2)\n",
      "Requirement already satisfied: traitlets>=4.2 in /home/elenkarla/anaconda3/lib/python3.8/site-packages (from ipython->jupyter-dash) (4.3.3)\n",
      "Requirement already satisfied: backcall in /home/elenkarla/anaconda3/lib/python3.8/site-packages (from ipython->jupyter-dash) (0.2.0)\n",
      "Requirement already satisfied: six>=1.7.0 in /home/elenkarla/anaconda3/lib/python3.8/site-packages (from retrying->jupyter-dash) (1.15.0)\n",
      "Requirement already satisfied: tornado>=4.2 in /home/elenkarla/anaconda3/lib/python3.8/site-packages (from ipykernel->jupyter-dash) (6.0.4)\n",
      "Requirement already satisfied: jupyter-client in /home/elenkarla/anaconda3/lib/python3.8/site-packages (from ipykernel->jupyter-dash) (6.1.6)\n",
      "Requirement already satisfied: MarkupSafe>=0.23 in /home/elenkarla/anaconda3/lib/python3.8/site-packages (from Jinja2>=2.10.1->flask->jupyter-dash) (1.1.1)\n",
      "Requirement already satisfied: brotli in /home/elenkarla/anaconda3/lib/python3.8/site-packages (from flask-compress->dash->jupyter-dash) (1.0.9)\n",
      "Requirement already satisfied: wcwidth in /home/elenkarla/anaconda3/lib/python3.8/site-packages (from prompt-toolkit!=3.0.0,!=3.0.1,<3.1.0,>=2.0.0->ipython->jupyter-dash) (0.2.5)\n",
      "Requirement already satisfied: ptyprocess>=0.5 in /home/elenkarla/anaconda3/lib/python3.8/site-packages (from pexpect; sys_platform != \"win32\"->ipython->jupyter-dash) (0.6.0)\n",
      "Requirement already satisfied: parso<0.8.0,>=0.7.0 in /home/elenkarla/anaconda3/lib/python3.8/site-packages (from jedi>=0.10->ipython->jupyter-dash) (0.7.0)\n",
      "Requirement already satisfied: ipython-genutils in /home/elenkarla/anaconda3/lib/python3.8/site-packages (from traitlets>=4.2->ipython->jupyter-dash) (0.2.0)\n",
      "Requirement already satisfied: jupyter-core>=4.6.0 in /home/elenkarla/anaconda3/lib/python3.8/site-packages (from jupyter-client->ipykernel->jupyter-dash) (4.6.3)\n",
      "Requirement already satisfied: pyzmq>=13 in /home/elenkarla/anaconda3/lib/python3.8/site-packages (from jupyter-client->ipykernel->jupyter-dash) (19.0.1)\n",
      "Requirement already satisfied: python-dateutil>=2.1 in /home/elenkarla/anaconda3/lib/python3.8/site-packages (from jupyter-client->ipykernel->jupyter-dash) (2.8.1)\n",
      "Installing collected packages: ansi2html, jupyter-dash\n",
      "Successfully installed ansi2html-1.6.0 jupyter-dash-0.4.0\n"
     ]
    }
   ],
   "source": [
    "!pip install jupyter-dash"
   ]
  },
  {
   "cell_type": "code",
   "execution_count": 1,
   "metadata": {},
   "outputs": [],
   "source": [
    "import plotly.express as px\n",
    "from jupyter_dash import JupyterDash\n",
    "import dash_core_components as dcc\n",
    "import dash_html_components as html\n",
    "from dash.dependencies import Input, Output\n",
    "\n",
    "\n",
    "# Load Data\n",
    "\n",
    "\n"
   ]
  },
  {
   "cell_type": "code",
   "execution_count": 2,
   "metadata": {},
   "outputs": [],
   "source": [
    "import pandas as pd\n",
    "rede =pd.read_csv('dadosRede.csv')\n",
    "\n",
    "available_indicators = rede['Bloco'].unique()\n"
   ]
  },
  {
   "cell_type": "code",
   "execution_count": 17,
   "metadata": {},
   "outputs": [
    {
     "data": {
      "text/html": [
       "\n",
       "        <iframe\n",
       "            width=\"100%\"\n",
       "            height=\"650\"\n",
       "            src=\"http://127.0.0.1:8050/\"\n",
       "            frameborder=\"0\"\n",
       "            allowfullscreen\n",
       "        ></iframe>\n",
       "        "
      ],
      "text/plain": [
       "<IPython.lib.display.IFrame at 0x7f369c341820>"
      ]
     },
     "metadata": {},
     "output_type": "display_data"
    }
   ],
   "source": [
    "external_stylesheets = ['https://codepen.io/chriddyp/pen/bWLwgP.css']\n",
    "\n",
    "# Build App\n",
    "app = JupyterDash(__name__, external_stylesheets=external_stylesheets)\n",
    "\n",
    "colors = {\n",
    "    'background':'#ffffff',\n",
    "    'text': '#191919'\n",
    "}\n",
    "\n",
    "fig = px.bar(rede, x=\"Bloco\", y=\"Conexoes\",color=\"Andar\",title=\"Dispositivos Conectados\",color_discrete_sequence=px.colors.sequential.RdBu)\n",
    "fig2 = px.pie(rede, values='Conexoes', title=\"Capacidade de Conexão Utilizada.\",\n",
    "              names='Bloco',color_discrete_sequence=px.colors.sequential.RdBu)\n",
    "\n",
    "fig3 = px.density_mapbox(rede, lat='Longitude', lon='Latitude', z='Conexoes', radius=5,\n",
    "                        center=dict(lat=0, lon=180), zoom=0,title=\"Mapa de Calor - REDE SEM FIO_UFAM\",\n",
    "                        mapbox_style=\"open-street-map\")\n",
    "\n",
    "\n",
    "fig.update_layout(\n",
    "    plot_bgcolor=colors['background'],\n",
    "    paper_bgcolor=colors['background'],\n",
    "    font_color=colors['text']\n",
    ")\n",
    "\n",
    "\n",
    "\n",
    "app.layout = html.Div(style={'backgroundColor': colors['background']}, children=[\n",
    "    html.H1(\n",
    "        children='Dashboard - WIFI_ZONE_UFAM',\n",
    "        style={\n",
    "            'textAlign': 'center',\n",
    "            'color': colors['text']\n",
    "        }\n",
    "    ),\n",
    "\n",
    "    html.Div(children='Dash: A web application framework for Python.', style={\n",
    "        'textAlign': 'center',\n",
    "        'color': colors['text']\n",
    "    }),\n",
    "    \n",
    "     \n",
    "    \n",
    "    html.Div([\n",
    "        dcc.Graph(\n",
    "            id='graph',\n",
    "            figure = fig\n",
    "        )\n",
    "    ], style={'width': '49%', 'display': 'inline-block', 'padding': '0 20'}),\n",
    "    \n",
    "  \n",
    "  \n",
    "    \n",
    "    html.Div([\n",
    "        dcc.Graph(\n",
    "            id=\"pie-chart\",\n",
    "            figure = fig2\n",
    "        )\n",
    "    ], style={'width': '49%', 'display': 'inline-block', 'padding': '0 20'}),\n",
    "    \n",
    "    \n",
    "    html.Div([\n",
    "        dcc.Graph(\n",
    "            id=\"density_mapbox\",\n",
    "            figure = fig3\n",
    "        )\n",
    "    ]),\n",
    "    \n",
    "   \n",
    "    \n",
    "   \n",
    "   \n",
    "    \n",
    "])\n",
    "\n",
    "\n",
    "\n",
    "\n",
    "\n",
    "\n",
    "# Run app and display result inline in the notebook\n",
    "app.run_server(mode='inline')"
   ]
  },
  {
   "cell_type": "code",
   "execution_count": null,
   "metadata": {},
   "outputs": [],
   "source": []
  }
 ],
 "metadata": {
  "kernelspec": {
   "display_name": "Python 3",
   "language": "python",
   "name": "python3"
  },
  "language_info": {
   "codemirror_mode": {
    "name": "ipython",
    "version": 3
   },
   "file_extension": ".py",
   "mimetype": "text/x-python",
   "name": "python",
   "nbconvert_exporter": "python",
   "pygments_lexer": "ipython3",
   "version": "3.8.3"
  }
 },
 "nbformat": 4,
 "nbformat_minor": 4
}
